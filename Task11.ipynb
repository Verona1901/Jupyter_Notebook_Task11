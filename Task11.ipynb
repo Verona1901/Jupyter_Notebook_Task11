{
  "nbformat": 4,
  "nbformat_minor": 0,
  "metadata": {
    "colab": {
      "provenance": [],
      "authorship_tag": "ABX9TyOJo2s8CBXo2tlM8DpX7Zsr",
      "include_colab_link": true
    },
    "kernelspec": {
      "name": "python3",
      "display_name": "Python 3"
    },
    "language_info": {
      "name": "python"
    }
  },
  "cells": [
    {
      "cell_type": "markdown",
      "metadata": {
        "id": "view-in-github",
        "colab_type": "text"
      },
      "source": [
        "<a href=\"https://colab.research.google.com/github/Verona1901/Jupyter_Notebook_Task11/blob/main/Task11.ipynb\" target=\"_parent\"><img src=\"https://colab.research.google.com/assets/colab-badge.svg\" alt=\"Open In Colab\"/></a>"
      ]
    },
    {
      "cell_type": "markdown",
      "source": [
        "Определить корни\n",
        "\n",
        "Найти интервалы, на которых функция возрастает\n",
        "\n",
        "Найти интервалы, на которых функция убывает\n",
        "\n",
        "Построить график\n",
        "\n",
        "Вычислить вершину\n",
        "\n",
        "Определить промежутки, на котором f > 0\n",
        "\n",
        "Определить промежутки, на котором f < 0\n",
        "\n",
        "f(x) = -5*x**2 + 10*x - 150"
      ],
      "metadata": {
        "id": "-FpgLIEGxFm4"
      }
    },
    {
      "cell_type": "code",
      "source": [
        "import math\n",
        "from sympy import *\n",
        "from sympy.plotting import plot\n"
      ],
      "metadata": {
        "id": "nx3eBOlBxNbq"
      },
      "execution_count": null,
      "outputs": []
    },
    {
      "cell_type": "code",
      "source": [
        "x = Symbol('x')\n",
        "fx = -5*x**2 + 10*x - 150\n",
        "fx\n"
      ],
      "metadata": {
        "colab": {
          "base_uri": "https://localhost:8080/",
          "height": 39
        },
        "id": "c7VvJZN8xXif",
        "outputId": "9f59fb3b-7d64-4697-f389-482689025146"
      },
      "execution_count": null,
      "outputs": [
        {
          "output_type": "execute_result",
          "data": {
            "text/plain": [
              "-5*x**2 + 10*x - 150"
            ],
            "text/latex": "$\\displaystyle - 5 x^{2} + 10 x - 150$"
          },
          "metadata": {},
          "execution_count": 4
        }
      ]
    },
    {
      "cell_type": "code",
      "source": [
        "p = plot (fx, (x, -10, 10))"
      ],
      "metadata": {
        "colab": {
          "base_uri": "https://localhost:8080/",
          "height": 297
        },
        "id": "ndMB0mB4xdBQ",
        "outputId": "390904e4-7baa-4e76-b355-a4c58a3a5e0c"
      },
      "execution_count": null,
      "outputs": [
        {
          "output_type": "display_data",
          "data": {
            "text/plain": [
              "<Figure size 432x288 with 1 Axes>"
            ],
            "image/png": "[encoded data removed]"
          },
          "metadata": {
            "needs_background": "light"
          }
        }
      ]
    },
    {
      "cell_type": "code",
      "source": [
        "#корни\n",
        "sqrt_1, sqrt_2  = solve(fx) # корни\n",
        "print(sqrt_1, sqrt_2)"
      ],
      "metadata": {
        "colab": {
          "base_uri": "https://localhost:8080/"
        },
        "id": "PE1kLtqLyCDS",
        "outputId": "ffa9ba3e-fa72-460b-8e42-d04f9b84786e"
      },
      "execution_count": null,
      "outputs": [
        {
          "output_type": "stream",
          "name": "stdout",
          "text": [
            "1 - sqrt(29)*I 1 + sqrt(29)*I\n"
          ]
        }
      ]
    },
    {
      "cell_type": "code",
      "source": [
        "pr = diff(fx)\n",
        "print(pr)"
      ],
      "metadata": {
        "colab": {
          "base_uri": "https://localhost:8080/"
        },
        "id": "aWEgHcTSySoo",
        "outputId": "c1c867e4-09c1-463b-f07f-a4d31d03a563"
      },
      "execution_count": null,
      "outputs": [
        {
          "output_type": "stream",
          "name": "stdout",
          "text": [
            "10 - 10*x\n"
          ]
        }
      ]
    },
    {
      "cell_type": "code",
      "source": [
        "#вершина\n",
        "apex = solve(diff(fx))[0]\n",
        "print(apex)\n"
      ],
      "metadata": {
        "colab": {
          "base_uri": "https://localhost:8080/"
        },
        "id": "sFWTxkA0ya4R",
        "outputId": "5df3905b-6836-436f-c602-4411c1077cfa"
      },
      "execution_count": null,
      "outputs": [
        {
          "output_type": "stream",
          "name": "stdout",
          "text": [
            "1\n"
          ]
        }
      ]
    },
    {
      "cell_type": "code",
      "source": [
        "solve(diff(fx) > 0) # интервалы, где функция возрастает"
      ],
      "metadata": {
        "colab": {
          "base_uri": "https://localhost:8080/",
          "height": 39
        },
        "id": "Skhdcwwtyfyj",
        "outputId": "bc07d1a1-f79c-4c53-a58f-20e3bdb413ed"
      },
      "execution_count": null,
      "outputs": [
        {
          "output_type": "execute_result",
          "data": {
            "text/plain": [
              "(-oo < x) & (x < 1)"
            ],
            "text/latex": "$\\displaystyle -\\infty < x \\wedge x < 1$"
          },
          "metadata": {},
          "execution_count": 14
        }
      ]
    },
    {
      "cell_type": "code",
      "source": [
        "solve(diff(fx) < 0) # интервалы, где функция убывает"
      ],
      "metadata": {
        "colab": {
          "base_uri": "https://localhost:8080/",
          "height": 39
        },
        "id": "bdbxAvJAykU5",
        "outputId": "88453536-5a3c-4776-823a-5a8a6acb9186"
      },
      "execution_count": null,
      "outputs": [
        {
          "output_type": "execute_result",
          "data": {
            "text/plain": [
              "(1 < x) & (x < oo)"
            ],
            "text/latex": "$\\displaystyle 1 < x \\wedge x < \\infty$"
          },
          "metadata": {},
          "execution_count": 17
        }
      ]
    },
    {
      "cell_type": "code",
      "source": [
        "solve(fx > 0) "
      ],
      "metadata": {
        "colab": {
          "base_uri": "https://localhost:8080/",
          "height": 37
        },
        "id": "ynFBH3nY1z7T",
        "outputId": "b4266003-3f81-4d27-dd8f-68b374de36c2"
      },
      "execution_count": null,
      "outputs": [
        {
          "output_type": "execute_result",
          "data": {
            "text/plain": [
              "False"
            ],
            "text/latex": "$\\displaystyle \\text{False}$"
          },
          "metadata": {},
          "execution_count": 18
        }
      ]
    },
    {
      "cell_type": "code",
      "source": [
        "solve(fx < 0) "
      ],
      "metadata": {
        "id": "Ab7ngkOz1-Bb",
        "outputId": "554872b9-1fb1-47ed-fe96-d7cfc0040e8b",
        "colab": {
          "base_uri": "https://localhost:8080/",
          "height": 39
        }
      },
      "execution_count": null,
      "outputs": [
        {
          "output_type": "execute_result",
          "data": {
            "text/plain": [
              "(-oo < x) & (x < oo)"
            ],
            "text/latex": "$\\displaystyle -\\infty < x \\wedge x < \\infty$"
          },
          "metadata": {},
          "execution_count": 19
        }
      ]
    }
  ]
}